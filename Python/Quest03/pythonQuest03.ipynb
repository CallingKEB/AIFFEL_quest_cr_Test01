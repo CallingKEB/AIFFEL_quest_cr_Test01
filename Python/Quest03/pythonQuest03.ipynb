{
  "nbformat": 4,
  "nbformat_minor": 0,
  "metadata": {
    "colab": {
      "provenance": [],
      "authorship_tag": "ABX9TyN33wDLE0XFIDtRZk0KYANP"
    },
    "kernelspec": {
      "name": "python3",
      "display_name": "Python 3"
    },
    "language_info": {
      "name": "python"
    }
  },
  "cells": [
    {
      "cell_type": "code",
      "execution_count": null,
      "metadata": {
        "id": "BEDL63yN3wWf"
      },
      "outputs": [],
      "source": []
    }
  ]
}